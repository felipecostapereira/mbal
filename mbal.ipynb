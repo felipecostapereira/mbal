{
 "cells": [
  {
   "cell_type": "code",
   "execution_count": 25,
   "metadata": {},
   "outputs": [
    {
     "name": "stdout",
     "output_type": "stream",
     "text": [
      "OpenServer is connected\n",
      "OpenServer has been disconnected\n"
     ]
    }
   ],
   "source": [
    "import openserver\n",
    "import os\n",
    "\n",
    "petex = openserver.OpenServer()\n",
    "\n",
    "with petex:\n",
    "    petex.DoCmd('MBAL.START')\n",
    "    path = os.path.join(os.getcwd(),'monai_p50_blackoil.mbi')\n",
    "    petex.DoCmd(f'MBAL.OPENFILE(\"{path}\")')\n",
    "    petex.DoCmd('MBAL.SHUTDOWN')"
   ]
  }
 ],
 "metadata": {
  "kernelspec": {
   "display_name": "env_mbal",
   "language": "python",
   "name": "python3"
  },
  "language_info": {
   "codemirror_mode": {
    "name": "ipython",
    "version": 3
   },
   "file_extension": ".py",
   "mimetype": "text/x-python",
   "name": "python",
   "nbconvert_exporter": "python",
   "pygments_lexer": "ipython3",
   "version": "3.9.1"
  }
 },
 "nbformat": 4,
 "nbformat_minor": 2
}
